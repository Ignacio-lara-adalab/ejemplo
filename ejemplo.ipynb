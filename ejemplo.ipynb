{
 "cells": [
  {
   "cell_type": "code",
   "execution_count": null,
   "metadata": {},
   "outputs": [],
   "source": [
    "# codigo\n",
    "var1 = 3\n",
    "var2 = 6\n",
    "var3 = 10"
   ]
  },
  {
   "cell_type": "code",
   "execution_count": null,
   "metadata": {},
   "outputs": [],
   "source": [
    "# mas codigo!\n",
    "\n",
    "if var1 > 1:\n",
    "    print(\"es mayor que 1!\")\n",
    "\n",
    "else:\n",
    "    print('es mayor que 2')"
   ]
  }
 ],
 "metadata": {
  "language_info": {
   "name": "python"
  }
 },
 "nbformat": 4,
 "nbformat_minor": 2
}
