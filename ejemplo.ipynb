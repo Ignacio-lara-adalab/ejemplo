{
 "cells": [
  {
   "cell_type": "code",
   "execution_count": null,
   "metadata": {},
   "outputs": [],
   "source": [
    "# codigo\n",
    "var1 = 3\n",
    "var2 = 6\n",
    "var3 = 10"
   ]
  },
  {
   "cell_type": "code",
   "execution_count": null,
   "metadata": {},
   "outputs": [],
   "source": [
    "# mas codigo!\n",
    "\n",
    "if var1 > 1:\n",
    "    print(\"es mayor que 1!\")"
   ]
  },
  {
   "cell_type": "code",
   "execution_count": null,
   "metadata": {},
   "outputs": [],
   "source": [
    "# de la nueva rama\n",
    "\n",
    "print(\"hola a todos\")"
   ]
  }
 ],
 "metadata": {
  "language_info": {
   "name": "python"
  }
 },
 "nbformat": 4,
 "nbformat_minor": 2
}
